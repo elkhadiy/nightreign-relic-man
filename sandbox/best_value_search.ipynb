{
 "cells": [
  {
   "cell_type": "markdown",
   "id": "e8052d8d",
   "metadata": {},
   "source": [
    "# Best build by weighted relic effects\n",
    "\n",
    "Given a list of desired relic effects to which we give a desirability value, find combinations of available Vessels and relics that maximizes the value of effects we want in our build."
   ]
  },
  {
   "cell_type": "code",
   "execution_count": 1,
   "id": "800c38a0",
   "metadata": {},
   "outputs": [],
   "source": [
    "import itertools\n",
    "import yaml\n",
    "\n",
    "from collections import Counter\n",
    "\n",
    "from items import Vessel, Relic"
   ]
  },
  {
   "cell_type": "code",
   "execution_count": 2,
   "id": "1a1534c4",
   "metadata": {},
   "outputs": [],
   "source": [
    "ironeye_vessels = [\n",
    "    Vessel((\"Yellow\", \"Green\", \"Green\")),\n",
    "    Vessel((\"Red\", \"Blue\", \"Yellow\")),\n",
    "    Vessel((\"Red\", \"Green\", \"White\"))\n",
    "]"
   ]
  },
  {
   "cell_type": "code",
   "execution_count": 3,
   "id": "425452e5",
   "metadata": {},
   "outputs": [],
   "source": [
    "inventory = []\n",
    "\n",
    "with open(\"relic_inventory.yml\", \"r\") as f:\n",
    "    db = yaml.safe_load(f)\n",
    "    for entry in db:\n",
    "        inventory.append(Relic(entry['color'], entry['effects']))"
   ]
  },
  {
   "cell_type": "code",
   "execution_count": 4,
   "id": "0914c8ff",
   "metadata": {},
   "outputs": [
    {
     "data": {
      "text/plain": [
       "[Relic(color='Red', effects=['Stamina Recovers with Each Successful Attack', 'Dexterity +1', 'Lightning Attack Power Up +2']),\n",
       " Relic(color='Red', effects=['Improved Invisibility Sorcery', 'Dexterity +2']),\n",
       " Relic(color='Red', effects=['Improved Heavy Thrusting Sword Attach Power']),\n",
       " Relic(color='Red', effects=['Improved Attack Power with 3+ Axes Equipped', 'Improved Godslayer Incantations', \"Changes compatible armament's skill to Chilling Mist at start of expedition\"]),\n",
       " Relic(color='Red', effects=['[Raider] Damage taken while using Character Skill improves attack power and stamina', 'Strength +3', 'Magic Attack Power Up +1']),\n",
       " Relic(color='Red', effects=['[Revenant] Trigger ghostflame explosion during Ultimate Art activation', \"Changes compatible armament's skill to Hoarfrost\"]),\n",
       " Relic(color='Yellow', effects=['Starting armament inflics frost', 'Magic Attack Power Up +1']),\n",
       " Relic(color='Yellow', effects=['[Ironeye] +1 additional Character Skill use', 'Starting armament inflicts blood loss']),\n",
       " Relic(color='Yellow', effects=['Improved Ailment Resistance', \"Change Compatible Armament's Skill to Chilling Mist at Start of Expedition\"]),\n",
       " Relic(color='Green', effects=['Improved Hammer Attack Power', 'Vigor +2', 'Endurance +1']),\n",
       " Relic(color='Green', effects=['[Ironeye] Art Charge Activation Adds Poison Effect', 'Arcane +3']),\n",
       " Relic(color='Green', effects=['Starting armament deals lightning damage', 'Attack power up when facing poison-afflicted enemy']),\n",
       " Relic(color='Green', effects=['Draw Enemy Attention while Guarding', 'Switching Weapons Adds an Affinity Attack', 'Arcane +3'])]"
      ]
     },
     "execution_count": 4,
     "metadata": {},
     "output_type": "execute_result"
    }
   ],
   "source": [
    "inventory"
   ]
  },
  {
   "cell_type": "code",
   "execution_count": 5,
   "id": "105fd985",
   "metadata": {},
   "outputs": [],
   "source": [
    "with open(\"effect_preferences.yml\", \"r\") as f:\n",
    "    effect_preferences = yaml.safe_load(f)"
   ]
  },
  {
   "cell_type": "code",
   "execution_count": 6,
   "id": "04d6cec3",
   "metadata": {},
   "outputs": [
    {
     "data": {
      "text/plain": [
       "{'Starting armament Inflicts Frostbite': 100,\n",
       " '[Ironeye] Art Charge Activation Adds Poison Effect': 100,\n",
       " '[Ironeye] +1 additional Character Skill use': 80,\n",
       " 'Attack Power Up when Facing Frostbite-afflicted Enemy': 80,\n",
       " 'Attack Power Up when Facing Poison-afflicted Enemy': 80,\n",
       " 'Stamina Recovers with Each Successful Attack +1': 80,\n",
       " 'Stamina Recovers with Each Successful Attack': 75,\n",
       " 'Character Skill Cooldown Reduction +3': 60,\n",
       " 'Arcane +3': 60,\n",
       " 'Improved Bow Attack Power': 60,\n",
       " 'Character Skill Cooldown Reduction +2': 55,\n",
       " 'Arcane +2': 55,\n",
       " 'Character Skill Cooldown Reduction +1': 20,\n",
       " 'Arcane +1': 20}"
      ]
     },
     "execution_count": 6,
     "metadata": {},
     "output_type": "execute_result"
    }
   ],
   "source": [
    "effect_preferences[\"Ironeye\"]"
   ]
  },
  {
   "cell_type": "code",
   "execution_count": 7,
   "id": "b6924f23",
   "metadata": {},
   "outputs": [],
   "source": [
    "def score_relics_in_inventory(inventory, effect_preferences):\n",
    "    for relic in inventory:\n",
    "        relic.score = 0\n",
    "        for effect in relic.effects:\n",
    "            relic.score += effect_preferences.get(effect, 0)\n",
    "    return inventory"
   ]
  },
  {
   "cell_type": "code",
   "execution_count": 8,
   "id": "40705362",
   "metadata": {},
   "outputs": [
    {
     "data": {
      "text/plain": [
       "[Relic(color='Red', effects=['Stamina Recovers with Each Successful Attack', 'Dexterity +1', 'Lightning Attack Power Up +2']),\n",
       " Relic(color='Red', effects=['Improved Invisibility Sorcery', 'Dexterity +2']),\n",
       " Relic(color='Red', effects=['Improved Heavy Thrusting Sword Attach Power']),\n",
       " Relic(color='Red', effects=['Improved Attack Power with 3+ Axes Equipped', 'Improved Godslayer Incantations', \"Changes compatible armament's skill to Chilling Mist at start of expedition\"]),\n",
       " Relic(color='Red', effects=['[Raider] Damage taken while using Character Skill improves attack power and stamina', 'Strength +3', 'Magic Attack Power Up +1']),\n",
       " Relic(color='Red', effects=['[Revenant] Trigger ghostflame explosion during Ultimate Art activation', \"Changes compatible armament's skill to Hoarfrost\"]),\n",
       " Relic(color='Yellow', effects=['Starting armament inflics frost', 'Magic Attack Power Up +1']),\n",
       " Relic(color='Yellow', effects=['[Ironeye] +1 additional Character Skill use', 'Starting armament inflicts blood loss']),\n",
       " Relic(color='Yellow', effects=['Improved Ailment Resistance', \"Change Compatible Armament's Skill to Chilling Mist at Start of Expedition\"]),\n",
       " Relic(color='Green', effects=['Improved Hammer Attack Power', 'Vigor +2', 'Endurance +1']),\n",
       " Relic(color='Green', effects=['[Ironeye] Art Charge Activation Adds Poison Effect', 'Arcane +3']),\n",
       " Relic(color='Green', effects=['Starting armament deals lightning damage', 'Attack power up when facing poison-afflicted enemy']),\n",
       " Relic(color='Green', effects=['Draw Enemy Attention while Guarding', 'Switching Weapons Adds an Affinity Attack', 'Arcane +3'])]"
      ]
     },
     "execution_count": 8,
     "metadata": {},
     "output_type": "execute_result"
    }
   ],
   "source": [
    "score_relics_in_inventory(inventory, effect_preferences[\"Ironeye\"])"
   ]
  },
  {
   "cell_type": "code",
   "execution_count": 9,
   "id": "f0c58b0b",
   "metadata": {},
   "outputs": [],
   "source": [
    "def get_relic_combinations(vessel, inventory):\n",
    "    possible_relics = [\n",
    "        [relic for relic in inventory if relic.color == slot_color or slot_color == \"white\"]\n",
    "        for slot_color in vessel.slot_colors\n",
    "    ]\n",
    "    return [\n",
    "        vessel for vessel in itertools.product(*possible_relics)\n",
    "        if all(value == 1 for value in Counter(vessel).values())\n",
    "    ]"
   ]
  },
  {
   "cell_type": "code",
   "execution_count": 10,
   "id": "d26f6dee",
   "metadata": {},
   "outputs": [],
   "source": [
    "possible_relic_combinations = get_relic_combinations(ironeye_vessels[0], inventory)"
   ]
  },
  {
   "cell_type": "code",
   "execution_count": 19,
   "id": "845ea690",
   "metadata": {},
   "outputs": [],
   "source": [
    "def score_relic_combinations(relic_combinations):\n",
    "    scores = {\n",
    "        relic_combination: sum([relic.score for relic in relic_combination])\n",
    "        for relic_combination in relic_combinations\n",
    "    }\n",
    "    return {\n",
    "        k: v\n",
    "        for k, v in sorted(scores.items(), key=lambda item: item[1], reverse=True)\n",
    "    }"
   ]
  },
  {
   "cell_type": "code",
   "execution_count": 20,
   "id": "28abf2a6",
   "metadata": {},
   "outputs": [
    {
     "data": {
      "text/plain": [
       "{(Relic(color='Yellow', effects=['[Ironeye] +1 additional Character Skill use', 'Starting armament inflicts blood loss']),\n",
       "  Relic(color='Green', effects=['[Ironeye] Art Charge Activation Adds Poison Effect', 'Arcane +3']),\n",
       "  Relic(color='Green', effects=['Draw Enemy Attention while Guarding', 'Switching Weapons Adds an Affinity Attack', 'Arcane +3'])): 300,\n",
       " (Relic(color='Yellow', effects=['[Ironeye] +1 additional Character Skill use', 'Starting armament inflicts blood loss']),\n",
       "  Relic(color='Green', effects=['Draw Enemy Attention while Guarding', 'Switching Weapons Adds an Affinity Attack', 'Arcane +3']),\n",
       "  Relic(color='Green', effects=['[Ironeye] Art Charge Activation Adds Poison Effect', 'Arcane +3'])): 300,\n",
       " (Relic(color='Yellow', effects=['[Ironeye] +1 additional Character Skill use', 'Starting armament inflicts blood loss']),\n",
       "  Relic(color='Green', effects=['Improved Hammer Attack Power', 'Vigor +2', 'Endurance +1']),\n",
       "  Relic(color='Green', effects=['[Ironeye] Art Charge Activation Adds Poison Effect', 'Arcane +3'])): 240,\n",
       " (Relic(color='Yellow', effects=['[Ironeye] +1 additional Character Skill use', 'Starting armament inflicts blood loss']),\n",
       "  Relic(color='Green', effects=['[Ironeye] Art Charge Activation Adds Poison Effect', 'Arcane +3']),\n",
       "  Relic(color='Green', effects=['Improved Hammer Attack Power', 'Vigor +2', 'Endurance +1'])): 240,\n",
       " (Relic(color='Yellow', effects=['[Ironeye] +1 additional Character Skill use', 'Starting armament inflicts blood loss']),\n",
       "  Relic(color='Green', effects=['[Ironeye] Art Charge Activation Adds Poison Effect', 'Arcane +3']),\n",
       "  Relic(color='Green', effects=['Starting armament deals lightning damage', 'Attack power up when facing poison-afflicted enemy'])): 240,\n",
       " (Relic(color='Yellow', effects=['[Ironeye] +1 additional Character Skill use', 'Starting armament inflicts blood loss']),\n",
       "  Relic(color='Green', effects=['Starting armament deals lightning damage', 'Attack power up when facing poison-afflicted enemy']),\n",
       "  Relic(color='Green', effects=['[Ironeye] Art Charge Activation Adds Poison Effect', 'Arcane +3'])): 240,\n",
       " (Relic(color='Yellow', effects=['Starting armament inflics frost', 'Magic Attack Power Up +1']),\n",
       "  Relic(color='Green', effects=['[Ironeye] Art Charge Activation Adds Poison Effect', 'Arcane +3']),\n",
       "  Relic(color='Green', effects=['Draw Enemy Attention while Guarding', 'Switching Weapons Adds an Affinity Attack', 'Arcane +3'])): 220,\n",
       " (Relic(color='Yellow', effects=['Starting armament inflics frost', 'Magic Attack Power Up +1']),\n",
       "  Relic(color='Green', effects=['Draw Enemy Attention while Guarding', 'Switching Weapons Adds an Affinity Attack', 'Arcane +3']),\n",
       "  Relic(color='Green', effects=['[Ironeye] Art Charge Activation Adds Poison Effect', 'Arcane +3'])): 220,\n",
       " (Relic(color='Yellow', effects=['Improved Ailment Resistance', \"Change Compatible Armament's Skill to Chilling Mist at Start of Expedition\"]),\n",
       "  Relic(color='Green', effects=['[Ironeye] Art Charge Activation Adds Poison Effect', 'Arcane +3']),\n",
       "  Relic(color='Green', effects=['Draw Enemy Attention while Guarding', 'Switching Weapons Adds an Affinity Attack', 'Arcane +3'])): 220,\n",
       " (Relic(color='Yellow', effects=['Improved Ailment Resistance', \"Change Compatible Armament's Skill to Chilling Mist at Start of Expedition\"]),\n",
       "  Relic(color='Green', effects=['Draw Enemy Attention while Guarding', 'Switching Weapons Adds an Affinity Attack', 'Arcane +3']),\n",
       "  Relic(color='Green', effects=['[Ironeye] Art Charge Activation Adds Poison Effect', 'Arcane +3'])): 220,\n",
       " (Relic(color='Yellow', effects=['Starting armament inflics frost', 'Magic Attack Power Up +1']),\n",
       "  Relic(color='Green', effects=['Improved Hammer Attack Power', 'Vigor +2', 'Endurance +1']),\n",
       "  Relic(color='Green', effects=['[Ironeye] Art Charge Activation Adds Poison Effect', 'Arcane +3'])): 160,\n",
       " (Relic(color='Yellow', effects=['Starting armament inflics frost', 'Magic Attack Power Up +1']),\n",
       "  Relic(color='Green', effects=['[Ironeye] Art Charge Activation Adds Poison Effect', 'Arcane +3']),\n",
       "  Relic(color='Green', effects=['Improved Hammer Attack Power', 'Vigor +2', 'Endurance +1'])): 160,\n",
       " (Relic(color='Yellow', effects=['Starting armament inflics frost', 'Magic Attack Power Up +1']),\n",
       "  Relic(color='Green', effects=['[Ironeye] Art Charge Activation Adds Poison Effect', 'Arcane +3']),\n",
       "  Relic(color='Green', effects=['Starting armament deals lightning damage', 'Attack power up when facing poison-afflicted enemy'])): 160,\n",
       " (Relic(color='Yellow', effects=['Starting armament inflics frost', 'Magic Attack Power Up +1']),\n",
       "  Relic(color='Green', effects=['Starting armament deals lightning damage', 'Attack power up when facing poison-afflicted enemy']),\n",
       "  Relic(color='Green', effects=['[Ironeye] Art Charge Activation Adds Poison Effect', 'Arcane +3'])): 160,\n",
       " (Relic(color='Yellow', effects=['Improved Ailment Resistance', \"Change Compatible Armament's Skill to Chilling Mist at Start of Expedition\"]),\n",
       "  Relic(color='Green', effects=['Improved Hammer Attack Power', 'Vigor +2', 'Endurance +1']),\n",
       "  Relic(color='Green', effects=['[Ironeye] Art Charge Activation Adds Poison Effect', 'Arcane +3'])): 160,\n",
       " (Relic(color='Yellow', effects=['Improved Ailment Resistance', \"Change Compatible Armament's Skill to Chilling Mist at Start of Expedition\"]),\n",
       "  Relic(color='Green', effects=['[Ironeye] Art Charge Activation Adds Poison Effect', 'Arcane +3']),\n",
       "  Relic(color='Green', effects=['Improved Hammer Attack Power', 'Vigor +2', 'Endurance +1'])): 160,\n",
       " (Relic(color='Yellow', effects=['Improved Ailment Resistance', \"Change Compatible Armament's Skill to Chilling Mist at Start of Expedition\"]),\n",
       "  Relic(color='Green', effects=['[Ironeye] Art Charge Activation Adds Poison Effect', 'Arcane +3']),\n",
       "  Relic(color='Green', effects=['Starting armament deals lightning damage', 'Attack power up when facing poison-afflicted enemy'])): 160,\n",
       " (Relic(color='Yellow', effects=['Improved Ailment Resistance', \"Change Compatible Armament's Skill to Chilling Mist at Start of Expedition\"]),\n",
       "  Relic(color='Green', effects=['Starting armament deals lightning damage', 'Attack power up when facing poison-afflicted enemy']),\n",
       "  Relic(color='Green', effects=['[Ironeye] Art Charge Activation Adds Poison Effect', 'Arcane +3'])): 160,\n",
       " (Relic(color='Yellow', effects=['[Ironeye] +1 additional Character Skill use', 'Starting armament inflicts blood loss']),\n",
       "  Relic(color='Green', effects=['Improved Hammer Attack Power', 'Vigor +2', 'Endurance +1']),\n",
       "  Relic(color='Green', effects=['Draw Enemy Attention while Guarding', 'Switching Weapons Adds an Affinity Attack', 'Arcane +3'])): 140,\n",
       " (Relic(color='Yellow', effects=['[Ironeye] +1 additional Character Skill use', 'Starting armament inflicts blood loss']),\n",
       "  Relic(color='Green', effects=['Starting armament deals lightning damage', 'Attack power up when facing poison-afflicted enemy']),\n",
       "  Relic(color='Green', effects=['Draw Enemy Attention while Guarding', 'Switching Weapons Adds an Affinity Attack', 'Arcane +3'])): 140,\n",
       " (Relic(color='Yellow', effects=['[Ironeye] +1 additional Character Skill use', 'Starting armament inflicts blood loss']),\n",
       "  Relic(color='Green', effects=['Draw Enemy Attention while Guarding', 'Switching Weapons Adds an Affinity Attack', 'Arcane +3']),\n",
       "  Relic(color='Green', effects=['Improved Hammer Attack Power', 'Vigor +2', 'Endurance +1'])): 140,\n",
       " (Relic(color='Yellow', effects=['[Ironeye] +1 additional Character Skill use', 'Starting armament inflicts blood loss']),\n",
       "  Relic(color='Green', effects=['Draw Enemy Attention while Guarding', 'Switching Weapons Adds an Affinity Attack', 'Arcane +3']),\n",
       "  Relic(color='Green', effects=['Starting armament deals lightning damage', 'Attack power up when facing poison-afflicted enemy'])): 140,\n",
       " (Relic(color='Yellow', effects=['[Ironeye] +1 additional Character Skill use', 'Starting armament inflicts blood loss']),\n",
       "  Relic(color='Green', effects=['Improved Hammer Attack Power', 'Vigor +2', 'Endurance +1']),\n",
       "  Relic(color='Green', effects=['Starting armament deals lightning damage', 'Attack power up when facing poison-afflicted enemy'])): 80,\n",
       " (Relic(color='Yellow', effects=['[Ironeye] +1 additional Character Skill use', 'Starting armament inflicts blood loss']),\n",
       "  Relic(color='Green', effects=['Starting armament deals lightning damage', 'Attack power up when facing poison-afflicted enemy']),\n",
       "  Relic(color='Green', effects=['Improved Hammer Attack Power', 'Vigor +2', 'Endurance +1'])): 80,\n",
       " (Relic(color='Yellow', effects=['Starting armament inflics frost', 'Magic Attack Power Up +1']),\n",
       "  Relic(color='Green', effects=['Improved Hammer Attack Power', 'Vigor +2', 'Endurance +1']),\n",
       "  Relic(color='Green', effects=['Draw Enemy Attention while Guarding', 'Switching Weapons Adds an Affinity Attack', 'Arcane +3'])): 60,\n",
       " (Relic(color='Yellow', effects=['Starting armament inflics frost', 'Magic Attack Power Up +1']),\n",
       "  Relic(color='Green', effects=['Starting armament deals lightning damage', 'Attack power up when facing poison-afflicted enemy']),\n",
       "  Relic(color='Green', effects=['Draw Enemy Attention while Guarding', 'Switching Weapons Adds an Affinity Attack', 'Arcane +3'])): 60,\n",
       " (Relic(color='Yellow', effects=['Starting armament inflics frost', 'Magic Attack Power Up +1']),\n",
       "  Relic(color='Green', effects=['Draw Enemy Attention while Guarding', 'Switching Weapons Adds an Affinity Attack', 'Arcane +3']),\n",
       "  Relic(color='Green', effects=['Improved Hammer Attack Power', 'Vigor +2', 'Endurance +1'])): 60,\n",
       " (Relic(color='Yellow', effects=['Starting armament inflics frost', 'Magic Attack Power Up +1']),\n",
       "  Relic(color='Green', effects=['Draw Enemy Attention while Guarding', 'Switching Weapons Adds an Affinity Attack', 'Arcane +3']),\n",
       "  Relic(color='Green', effects=['Starting armament deals lightning damage', 'Attack power up when facing poison-afflicted enemy'])): 60,\n",
       " (Relic(color='Yellow', effects=['Improved Ailment Resistance', \"Change Compatible Armament's Skill to Chilling Mist at Start of Expedition\"]),\n",
       "  Relic(color='Green', effects=['Improved Hammer Attack Power', 'Vigor +2', 'Endurance +1']),\n",
       "  Relic(color='Green', effects=['Draw Enemy Attention while Guarding', 'Switching Weapons Adds an Affinity Attack', 'Arcane +3'])): 60,\n",
       " (Relic(color='Yellow', effects=['Improved Ailment Resistance', \"Change Compatible Armament's Skill to Chilling Mist at Start of Expedition\"]),\n",
       "  Relic(color='Green', effects=['Starting armament deals lightning damage', 'Attack power up when facing poison-afflicted enemy']),\n",
       "  Relic(color='Green', effects=['Draw Enemy Attention while Guarding', 'Switching Weapons Adds an Affinity Attack', 'Arcane +3'])): 60,\n",
       " (Relic(color='Yellow', effects=['Improved Ailment Resistance', \"Change Compatible Armament's Skill to Chilling Mist at Start of Expedition\"]),\n",
       "  Relic(color='Green', effects=['Draw Enemy Attention while Guarding', 'Switching Weapons Adds an Affinity Attack', 'Arcane +3']),\n",
       "  Relic(color='Green', effects=['Improved Hammer Attack Power', 'Vigor +2', 'Endurance +1'])): 60,\n",
       " (Relic(color='Yellow', effects=['Improved Ailment Resistance', \"Change Compatible Armament's Skill to Chilling Mist at Start of Expedition\"]),\n",
       "  Relic(color='Green', effects=['Draw Enemy Attention while Guarding', 'Switching Weapons Adds an Affinity Attack', 'Arcane +3']),\n",
       "  Relic(color='Green', effects=['Starting armament deals lightning damage', 'Attack power up when facing poison-afflicted enemy'])): 60,\n",
       " (Relic(color='Yellow', effects=['Starting armament inflics frost', 'Magic Attack Power Up +1']),\n",
       "  Relic(color='Green', effects=['Improved Hammer Attack Power', 'Vigor +2', 'Endurance +1']),\n",
       "  Relic(color='Green', effects=['Starting armament deals lightning damage', 'Attack power up when facing poison-afflicted enemy'])): 0,\n",
       " (Relic(color='Yellow', effects=['Starting armament inflics frost', 'Magic Attack Power Up +1']),\n",
       "  Relic(color='Green', effects=['Starting armament deals lightning damage', 'Attack power up when facing poison-afflicted enemy']),\n",
       "  Relic(color='Green', effects=['Improved Hammer Attack Power', 'Vigor +2', 'Endurance +1'])): 0,\n",
       " (Relic(color='Yellow', effects=['Improved Ailment Resistance', \"Change Compatible Armament's Skill to Chilling Mist at Start of Expedition\"]),\n",
       "  Relic(color='Green', effects=['Improved Hammer Attack Power', 'Vigor +2', 'Endurance +1']),\n",
       "  Relic(color='Green', effects=['Starting armament deals lightning damage', 'Attack power up when facing poison-afflicted enemy'])): 0,\n",
       " (Relic(color='Yellow', effects=['Improved Ailment Resistance', \"Change Compatible Armament's Skill to Chilling Mist at Start of Expedition\"]),\n",
       "  Relic(color='Green', effects=['Starting armament deals lightning damage', 'Attack power up when facing poison-afflicted enemy']),\n",
       "  Relic(color='Green', effects=['Improved Hammer Attack Power', 'Vigor +2', 'Endurance +1'])): 0}"
      ]
     },
     "execution_count": 20,
     "metadata": {},
     "output_type": "execute_result"
    }
   ],
   "source": [
    "score_relic_combinations(possible_relic_combinations)"
   ]
  },
  {
   "cell_type": "code",
   "execution_count": null,
   "id": "fc7f59c1",
   "metadata": {},
   "outputs": [],
   "source": []
  }
 ],
 "metadata": {
  "kernelspec": {
   "display_name": ".env",
   "language": "python",
   "name": "python3"
  },
  "language_info": {
   "codemirror_mode": {
    "name": "ipython",
    "version": 3
   },
   "file_extension": ".py",
   "mimetype": "text/x-python",
   "name": "python",
   "nbconvert_exporter": "python",
   "pygments_lexer": "ipython3",
   "version": "3.10.11"
  }
 },
 "nbformat": 4,
 "nbformat_minor": 5
}
