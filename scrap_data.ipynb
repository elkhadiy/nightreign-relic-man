{
 "cells": [
  {
   "cell_type": "code",
   "execution_count": null,
   "id": "2d0fdef6",
   "metadata": {},
   "outputs": [
    {
     "name": "stderr",
     "output_type": "stream",
     "text": [
      "C:\\Users\\yassi\\AppData\\Local\\Temp\\ipykernel_24040\\2875678698.py:1: DeprecationWarning: Importing display from IPython.core.display is deprecated since IPython 7.14, please import from IPython.display\n",
      "  from IPython.core.display import display, HTML\n"
     ]
    }
   ],
   "source": [
    "import pandas as pd\n",
    "import requests\n",
    "from bs4 import BeautifulSoup\n",
    "\n",
    "\n",
    "NIGHTREIGN_WIKI_RELICS = \"https://eldenringnightreign.wiki.fextralife.com/Relics\"\n",
    "\n",
    "\n",
    "def get_relic_effect_table():\n",
    "    response = requests.get(NIGHTREIGN_WIKI_RELICS)\n",
    "    soup = BeautifulSoup(response.text, \"html.parser\")\n",
    "    tables = soup.find_all(\"table\", {\"class\": \"wiki_table\", \"class\": \"sortable\", \"class\": \"searchable\"})\n",
    "    return tables"
   ]
  },
  {
   "cell_type": "code",
   "execution_count": 2,
   "id": "b36690b2",
   "metadata": {},
   "outputs": [],
   "source": [
    "tables = get_relic_effect_table()"
   ]
  },
  {
   "cell_type": "code",
   "execution_count": 27,
   "id": "53097134",
   "metadata": {},
   "outputs": [
    {
     "name": "stderr",
     "output_type": "stream",
     "text": [
      "C:\\Users\\yassi\\AppData\\Local\\Temp\\ipykernel_24040\\402386340.py:1: FutureWarning: Passing literal html to 'read_html' is deprecated and will be removed in a future version. To read from a literal string, wrap it in a 'StringIO' object.\n",
      "  relic_effects = pd.read_html(str(tables[1]))[0]\n"
     ]
    }
   ],
   "source": [
    "relic_effects = pd.read_html(str(tables[1]))[0]"
   ]
  },
  {
   "cell_type": "code",
   "execution_count": 32,
   "id": "01a95e72",
   "metadata": {},
   "outputs": [],
   "source": [
    "with open(\"relic_effects.txt\", \"w\") as f:\n",
    "    for effect in relic_effects[\"Relic Effect\"]:\n",
    "        f.write(effect + \"\\n\")"
   ]
  },
  {
   "cell_type": "code",
   "execution_count": null,
   "id": "9980f230",
   "metadata": {},
   "outputs": [],
   "source": []
  }
 ],
 "metadata": {
  "kernelspec": {
   "display_name": ".env",
   "language": "python",
   "name": "python3"
  },
  "language_info": {
   "codemirror_mode": {
    "name": "ipython",
    "version": 3
   },
   "file_extension": ".py",
   "mimetype": "text/x-python",
   "name": "python",
   "nbconvert_exporter": "python",
   "pygments_lexer": "ipython3",
   "version": "3.10.11"
  }
 },
 "nbformat": 4,
 "nbformat_minor": 5
}
